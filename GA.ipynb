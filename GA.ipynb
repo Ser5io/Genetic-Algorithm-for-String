{
 "cells": [
  {
   "cell_type": "code",
   "execution_count": 5,
   "metadata": {
    "pycharm": {
     "is_executing": false
    }
   },
   "outputs": [],
   "source": [
    "from GA.GApsource import *\n",
    "\n",
    "def fitness_fn(sample):\n",
    "    fitness = 0\n",
    "    for i in range(0,len(sample)):\n",
    "        if sample[i] == target[i]:\n",
    "            fitness += 1\n",
    "    return fitness\n",
    "\n",
    "def new_population(population):\n",
    "    newPop = []\n",
    "    # For every individual in the current population:\n",
    "    for ind in population:\n",
    "        #select two individuals with high fitness values. These will be the parents.\n",
    "        parents = select(2, population, fitness_fn)\n",
    "        # Recombine the parents using the recombine function to generate the child\n",
    "        child = recombine(parents[0],parents[1])\n",
    "        # Mutate child with the gene pool and mutation rate as additional arguments.\n",
    "        child = mutate(child, gene_pool, mutation_rate)\n",
    "        newPop.append(child)\n",
    "    # Return the new population\n",
    "    return newPop\n",
    "\n",
    "def genetic_algorithm(population, fitness_fn, gene_pool=[0, 1],\n",
    "                      f_thres=None, ngen=1200, pmut=0.1):\n",
    "    for generation in range(0,ngen):\n",
    "        population = new_population(population)\n",
    "        \n",
    "        current_best = max(population, key=fitness_fn)\n",
    "        best=''.join(current_best)\n",
    "        print(f'Current best: {best}\\t\\tGeneration: {str(generation + 1)}\\t\\t Fitness: {fitness_fn(current_best)}\\r', end='')\n",
    "        if fitness_threshold(fitness_fn,f_thres,population) is not None:\n",
    "            return max(population, key=fitness_fn) , generation\n",
    "    return max(population, key=fitness_fn) , generation"
   ]
  },
  {
   "cell_type": "code",
   "execution_count": 6,
   "metadata": {
    "pycharm": {
     "is_executing": false
    }
   },
   "outputs": [
    {
     "name": "stdout",
     "output_type": "stream",
     "text": [
      "Current best: tenFtigeFlgggithm\t\tGeneration: 100\t\t Fitness: 10\r"
     ]
    }
   ],
   "source": [
    "#---Variables---\n",
    "#Goal Target\n",
    "target = 'Genetic Algorithm'\n",
    "\n",
    "#Population max size\n",
    "max_population = 100\n",
    "\n",
    "#All possible values for genes\n",
    "gene_pool = [chr(x) for x in range(65,91)] + [chr(x) for x in range(97,123)] + [chr(32)]\n",
    "\n",
    "#Fitness Threashold at which the algorithm stops\n",
    "f_thres = len(target)\n",
    "\n",
    "#Max Number of generations \n",
    "ngen = 1000\n",
    "\n",
    "#Proba of mutation\n",
    "mutation_rate = 0.07 # 7%\n",
    "\n",
    "#---Main---\n",
    "#Initialize population\n",
    "population = init_population(max_population, gene_pool, len(target))\n",
    "solution , generations = genetic_algorithm(population, fitness_fn, gene_pool, f_thres, ngen, pmut=mutation_rate)"
   ]
  },
  {
   "cell_type": "code",
   "execution_count": 3,
   "metadata": {
    "pycharm": {
     "is_executing": false
    }
   },
   "outputs": [
    {
     "name": "stdout",
     "output_type": "stream",
     "text": [
      "[['b', 'P', 'j', 'B', 'G', 'u', 'R', 'Z', 'v', 'Z', 'z', 'h', ' ', 'j', 'X', 'A', 'U'], ['c', 'w', 'z', 'q', 'm', 'g', 'd', 'O', 'S', 'l', 'A', 'T', 'z', 'h', 'R', 'N', 'L'], ['o', 'c', 'N', 'p', 't', 'r', 'l', 'B', 'v', 'l', 'd', 'i', 'D', 'm', 'k', 'H', 'f'], ['j', 'B', 'm', 'W', 'O', ' ', 'A', 'p', 'L', 'I', 'M', 'J', 'J', 'w', 'E', 'v', 'g'], ['z', 'k', ' ', 'z', 'm', 'g', 'd', 'O', 'S', 'l', 'A', 'T', 'z', 'h', 'R', 'N', 'L'], ['c', 'w', 'z', 'q', 'U', 'r', 'c', 'u', 'A', 'e', 'h', 'H', 'F', 'I', 'P', 'h', 'e'], ['E', 'M', 'n', 'u', 'd', 'j', 'm', 'Y', 'Y', 'B', 'T', 'N', 'k', 'i', 'G', 'f', 'T'], ['D', 'k', 'Z', 's', 'p', 'r', 'l', 'b', 'b', 'Q', 'g', 'q', 'I', 'r', 'r', 'T', 'E'], ['c', 'v', 'w', 'r', 't', 'O', 'f', 'k', 'a', 'X', 'a', 'a', 'm', 'i', 'q', 'h', 'R'], ['N', 'L', 'N', 'L', ' ', 'l', 'M', 'x', 'X', 'J', 'u', ' ', 'z', 'Y', 'z', 'W', 'S'], ['c', 'v', 'w', 'P', 'i', 'a', 'Z', 't', 'E', 'q', 'p', 'o', 'c', 'o', 'd', 'L', 'F'], ['z', 'k', ' ', 'z', 'm', 'g', 'd', 'K', 'z', 'Y', 'k', 'N', 'n', 'x', 'u', 'h', 's'], ['A', 'H', 'M', 'i', 'h', 'i', 'K', 't', 'E', 'q', 'p', 'o', 'c', 'o', 'd', 'L', 'F'], ['b', 'P', 'j', 'B', 'G', 'u', 'R', 'f', 'E', 'X', 'a', 'a', 'm', 'i', 'q', 'h', 'R'], ['Z', 'r', 'J', 'C', 'E', 'l', 'x', 'u', 'E', 'A', 'z', 'z', 'z', 'r', 'P', 'M', 'W'], ['y', 'c', 'e', 'z', 'U', 'y', 'c', 'x', 'X', 'J', 'u', ' ', 'z', 'Y', 'z', 'W', 'S'], ['b', 'c', 'e', 'z', 'U', 'y', 'c', 'x', 'p', 'l', 'd', 'i', 'D', 'm', 'k', 'H', 'f'], ['b', 'P', 'j', 'B', 'G', 'u', 'R', 'Z', 'H', 'Z', 's', 'X', 'X', 'V', 'V', 'X', 'R'], ['F', 'v', 'x', 'i', 's', 'i', 'G', 'T', 'B', 'x', 'P', 'K', 'i', 'C', 'X', 'X', 'i'], ['M', 'e', 'c', 'm', 'E', 'l', 'x', 'u', 'E', 'A', 'z', 'z', 'z', 'Y', 'z', 'W', 'S'], ['C', 'O', 'W', 'o', 'f', 'K', 'L', 'K', 's', 'b', 'x', 's', 'b', 'y', 'O', 'h', 'G'], ['b', 'c', 'e', 'z', 'U', 'y', 'c', 'U', 'v', 'Z', 'T', 'N', 'k', 'i', 'G', 'f', 'T'], ['D', 'k', 'Z', 'P', 'i', 'a', 'Z', 'U', 'L', 'i', 'G', 'j', 'l', 'E', 't', 'Y', 'R'], ['b', 'G', 'n', 'K', 'b', 'c', 'A', 'p', 'A', 'F', 'g', 'P', 'Z', 'b', 'Z', 'x', 'B'], ['E', 'H', 'M', 'i', 'h', 'i', 'K', 'x', 'X', 'm', 'z', 'h', ' ', 'j', 'X', 'A', 'U'], ['D', 'k', 'Z', 'P', 'i', 'a', 'Z', 't', 'E', 'q', 'p', 'o', 'f', 'i', 'c', 'J', 'i'], ['j', 'w', 'Q', 's', 'e', 'y', 'l', 'M', 'm', 'e', 'h', 'H', 'F', 'I', 'P', 'h', 'e'], ['b', 'P', 'j', 'B', 'G', 'u', 'R', 'Z', 'H', 'Z', 's', 'X', 'X', 'V', 'V', 'X', 'm'], ['j', 'w', 'Q', 's', 'e', 'y', 'm', 'c', 'a', 'q', ' ', 'n', 'h', 'e', 'm', 'd', 'R'], ['z', 'k', ' ', 'z', 'm', 'l', 'W', 'f', 'K', 'O', 'P', 'A', 'Y', 'H', 'A', 'h', 'L'], ['y', 'p', 'p', 'D', 'p', 'r', 'c', 'u', 'A', 'F', 'g', 'P', 'Z', 'b', 'Z', 'x', 'B'], ['f', ' ', 'n', 'c', 'G', 'r', 't', 'L', 'A', 'F', 'g', 'P', 'Z', 'b', 'Z', 'x', 'B'], ['o', 'c', 'N', 'p', 't', 'r', 'l', 'i', 'N', 'q', 'K', 'z', 'H', 'F', 'I', 'z', 'o'], ['o', 'c', 'N', 'p', 't', 'r', 'm', 'c', 'a', 'q', ' ', 'n', 'h', 'e', 'm', 'd', 'R'], ['E', 'M', 'n', 'u', 'd', 'j', 'm', 'Y', 'Y', 'B', 'O', 'h', 's', 'p', 'q', 'L', 'd'], ['B', 'C', 'L', 'w', 'M', 'e', 'U', ' ', 'E', 'Z', 'A', 'H', 'J', 'v', 'Y', 'u', 'E'], ['b', 'n', 'v', 'Z', 'p', 'w', 'c', 'y', 'X', 'o', 'k', 'N', 'n', 'u', 'u', 'h', 's'], ['N', 'L', 'N', 'L', ' ', 'l', 'c', 'y', 'X', 'o', 'C', 'X', 'H', 'H', 'V', 'L', 'd'], ['b', 'n', 'v', 'Z', 'p', 'w', 'c', 'y', 'X', 'o', 'z', 'z', 'z', 'r', 'P', 'M', 'W'], ['W', 'T', 'r', 'e', 's', 'f', 'u', 'E', 'O', 'D', 'L', 'T', 'N', 'R', 'Z', 'x', 'B'], ['b', 'n', 'v', 'Z', 'p', 'w', 'c', 'y', 'X', 'o', 'C', 'A', 'Y', 'H', 'A', 'h', 'L'], ['D', 'k', 'Z', 'P', 'i', 'a', 'Z', 't', 'E', 'q', 'p', 'o', 'Y', 'H', 'A', 'h', 'L'], ['B', 'C', 'L', 'w', 'M', 'e', 'U', ' ', 'B', 'y', 'I', 'R', 'r', 'l', 'I', 'z', 'o'], ['j', 'B', 'm', 'W', 'O', ' ', 'K', 'f', 'E', 'X', 'a', 'a', 'm', 'i', 'q', 'A', 'c'], ['D', 'k', 'Z', 'P', 'i', 'a', 'Z', 'O', 'S', 'l', 'A', 'T', 'z', 'h', 'R', 'N', 'L'], ['c', 'w', 'z', 'q', 't', 'r', 'l', 'i', 'N', 'q', 'K', 'z', 'H', 'F', 'r', 'c', 'K'], ['v', 'm', 'x', 'i', 's', 'i', 'G', 'T', 'B', 'y', 'I', 'R', 'r', 'l', 'I', 'z', 'o'], ['Z', 'r', 'J', 'C', 'y', 'L', 's', 'U', 'L', 'i', 'M', 'J', 'J', 'w', 'E', 'v', 'g'], ['z', 'k', 'Q', 's', 'e', 'y', 'l', 'M', 'M', 'l', 'e', 'v', 'v', 'x', 'E', 'd', 'r'], ['N', ' ', 'd', ' ', 'a', 'f', 'T', 'x', 'm', 'e', 'h', 'H', 'F', 'I', 'P', 'h', 'e'], ['y', 'p', 'p', 'D', 'p', 'f', 'T', 'x', 'm', 'e', 'T', 'N', 'k', 'i', 'G', 'f', 'T'], ['j', 'B', 'm', 'q', 'U', 'r', 'c', 'u', 'A', 'F', 'g', 'P', 'Z', 'b', 'Z', 'x', 'B'], ['D', 'k', 'j', 'B', 'G', 'u', 'R', 'Z', 'H', 'Z', 's', 'X', 'X', 'V', 'V', 'X', 'm'], ['j', 'B', 'm', 'W', 'O', ' ', 'K', 'x', 'X', 'R', 'z', 'h', ' ', 'j', 'X', 'A', 'U'], ['A', 'H', 'M', 'q', 'U', 'r', 'c', 'u', 'A', 'F', 'g', 'P', 'Z', 'b', 'Z', 'x', 'B'], ['A', 'H', 'M', 'i', 'h', 'i', 'K', 'x', 'X', 'm', 'z', 'h', ' ', 'b', 'Z', 'x', 'B'], ['j', 'w', 'Q', 's', 'e', 'y', 'l', 'M', 'M', 'l', 'e', 'v', 'v', 'x', 'E', 'd', 'J'], ['j', 'B', 'm', 'W', 'O', ' ', 'G', 'B', 'v', 'l', 'd', 'i', 'D', 'm', 'k', 'H', 'f'], ['B', 'C', 'L', 'w', 'M', 'e', 'U', ' ', 'E', 'Z', 'A', 'N', 'n', 'u', 'u', 'h', 's'], ['j', 'w', 'Q', 's', 'e', 'y', 'l', 'M', 'M', 'l', 'e', 'j', 'l', 'E', 't', 'Y', 'R'], ['z', 'k', ' ', 'z', 'm', 'g', 'd', 'y', 'S', 'l', 'A', 'T', 'z', 'h', 'R', 'N', 'K'], ['N', 'L', 'N', 'B', 'G', 'u', 'R', 'Z', 'H', 'Z', 's', 'X', 'X', 'V', 'V', 'X', 'm'], ['c', 'w', 'z', 'q', 'q', 'T', 'L', 'x', 'i', 'z', 'Q', ' ', 'b', 'P', 'z', 'k', 'G'], ['y', 'L', 'y', 'P', 'i', 'a', 'Z', 't', 'E', 'q', 'p', 'o', 'c', 'o', 'd', 'L', 'F'], ['A', 'H', 'M', 'C', 'y', 'L', 's', 'U', 'L', 'i', 'G', 'j', 'l', 'E', 't', 'Y', 'R'], ['o', 'x', 'C', 'a', ' ', 'l', 'M', 'r', 'K', 'h', 'u', 'L', 'f', 'i', 'c', 'J', 'i'], ['c', 'w', 'z', 'q', 'U', 'g', 'z', 'U', 'v', 'Z', 'T', ' ', 'k', 'i', 'G', 'f', 'T'], ['o', 'x', 'C', 'a', 't', 'h', 'm', 'c', 'a', 'F', 'g', 'P', 'Z', 'b', 'Z', 'x', 'B'], ['y', 'p', 'p', 'D', 'O', ' ', 'K', 'f', 'E', 'X', 'a', 'a', 'm', 'i', 'q', 'h', 'R'], ['B', 'C', 'L', 'w', 'M', 'e', 'U', 'b', 'b', 'Q', 'g', 'q', 'I', 'r', 'r', 'T', 'E'], ['N', 'L', 'N', 'L', ' ', 'l', 'M', 'r', 'X', 'm', 'z', 'h', ' ', 'j', 'X', 'A', 'U'], ['D', 'k', 'Z', 'P', 'G', 'r', 't', 'L', 'R', 'p', 'H', 'y', 'G', 'F', 'u', 'A', 'c'], ['E', 'M', 'n', 'u', 'd', 'j', 'm', 'Y', 'Y', 'o', 'C', 'X', 'H', 'H', 'V', 'L', 'd'], ['G', 'B', ' ', 's', 'e', 'y', 'l', 'M', 'M', 'l', 'e', 'v', 'v', 'x', 'E', 'd', 'J'], ['C', 'O', 'W', 'o', 'f', 'K', 'L', 'K', 's', 'b', 'x', 'i', 'D', 'm', 'k', 'H', 'f'], ['M', 'e', 'c', 'm', 'E', 'l', 'x', ' ', 'E', 'Z', 'A', 'H', 'J', 'v', 'Y', 'u', 'K'], ['s', 'i', 'Z', 'a', 'P', 'g', 'z', 'U', 'v', 'Z', 'T', 'N', 'k', 'R', 'b', 'Z', 'c'], ['s', 'i', 'Z', 'a', 'n', 'g', 'z', 'U', 'v', 'Z', 'T', 'N', 'k', 'i', 'G', 'n', 'i'], ['j', 'B', 'm', 'W', 'O', ' ', 'K', 'f', 'E', 'X', 'a', 'a', 'm', 'i', 'q', 'h', 'R'], ['E', 'M', 'n', 'u', 'd', 'j', 'm', 'Y', 'Y', 'B', 'O', 'h', 's', 'v', 'Y', 'u', 'K'], ['c', 'w', 'z', 'q', 'U', 'r', 'c', 'u', 'A', 'F', 'g', 'P', 'Z', 'b', 'Z', 'x', 'B'], ['z', 'k', ' ', 'z', 'm', 'g', 'd', 'O', 'S', 'l', 'A', 'T', 'z', 'h', 'R', 'u', 'K'], ['j', 'w', 'Q', 's', 'e', 'y', 'l', 'M', 'M', 'i', 'G', 'j', 'l', 'E', 't', 'Y', 'R'], ['o', 'c', 'N', 'p', 't', 'r', 'l', 'i', 'N', 'q', 'K', 'z', 'H', 'F', 'r', 'c', 's'], ['m', 'b', 'B', 'g', 'h', 'm', 'g', 'H', 'p', 't', 'T', 'o', 'k', 'E', 'W', 'h', 'R'], ['c', 'w', 'z', 'q', 'U', 'r', 'c', 'u', 'A', 'F', 'P', 'A', 'Y', 'H', 'A', 'h', 'L'], ['j', 'B', 'm', 'W', 'O', ' ', 'K', 'f', 'E', 'X', 'a', 'a', 'm', 'r', 'r', 'T', 'E'], ['M', 'e', 'c', 'm', 'E', 'l', 'x', 'u', 'E', 'A', 'z', 'z', 'I', 'r', 'r', 'T', 'E'], ['b', 'G', 'n', 'Z', 'p', 'w', 'c', 'y', 'X', 'o', 'C', 'X', 'H', 'W', 'V', 'L', 'd'], ['j', 'n', 'v', 'Z', 'p', 'w', 'c', 'y', 'X', 'o', 'C', 'X', 'H', 'H', 'V', 'L', 'd'], ['B', 'C', 'L', 'D', 'p', 'f', 'T', 'x', 'm', 'e', 'h', 'H', 'F', 'I', 'P', 'h', 'e'], ['N', 'B', ' ', 'W', 'q', 'T', 'L', 'x', 'i', 'z', 'Q', ' ', 'b', 'P', 'z', 'k', 'G'], ['N', 'L', ' ', 'z', 'm', 'g', 'd', 'O', 'S', 'l', 'A', 'T', 'z', 'h', 'R', 'N', 'L'], ['b', 'G', 'n', 'K', 'b', 'c', 'A', 'p', 'L', 'I', 'M', 'J', 'J', 'w', 'u', 'h', 's'], ['c', 'w', 'z', 'q', 'U', 'r', 'c', 'u', 'A', 'F', 'g', 'P', 'Z', 'b', 'Z', 'x', 'B'], ['y', 'p', 'p', 'D', 'p', 'f', 'T', 'x', 'K', 'h', 'u', 'L', 'f', 'i', 'c', 'J', 'i'], ['b', 'n', 'v', 'Z', 'h', 'm', 'g', 'H', 'p', 't', 'T', 'o', 'k', 'E', 'W', 'L', 'b'], ['F', 'v', 'x', 'i', 's', 'i', 'G', 'T', 'B', 'F', 'g', 'P', 'Z', 'b', 'Z', 'x', 'B'], ['M', 'e', 'c', 'm', 'E', 'l', 'x', 'u', 'E', 'A', 'z', 'z', 'z', 'r', 'u', 'A', 'c'], ['y', 'p', 'p', 'D', 'p', 'f', 'T', 'x', 'X', 'o', 'C', 'X', 'H', 'H', 'V', 'L', 'd']]\n"
     ]
    }
   ],
   "source": [
    "#Writing new_population in 1 line of code\n",
    "def new_population(population):\n",
    "    return [mutate(recombine(*(select(2, population, fitness_fn))), gene_pool, mutation_rate) for ind in population]\n",
    "\n",
    "population = init_population(max_population, gene_pool, len(target))\n",
    "population = new_population(population)\n",
    "print(population)"
   ]
  }
 ],
 "metadata": {
  "kernelspec": {
   "display_name": "Python 3",
   "language": "python",
   "name": "python3"
  },
  "language_info": {
   "codemirror_mode": {
    "name": "ipython",
    "version": 3
   },
   "file_extension": ".py",
   "mimetype": "text/x-python",
   "name": "python",
   "nbconvert_exporter": "python",
   "pygments_lexer": "ipython3",
   "version": "3.7.6"
  },
  "pycharm": {
   "stem_cell": {
    "cell_type": "raw",
    "metadata": {
     "collapsed": false
    },
    "source": []
   }
  }
 },
 "nbformat": 4,
 "nbformat_minor": 1
}
